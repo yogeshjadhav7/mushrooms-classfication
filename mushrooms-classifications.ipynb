{
 "cells": [
  {
   "cell_type": "code",
   "execution_count": 79,
   "metadata": {},
   "outputs": [
    {
     "data": {
      "text/html": [
       "<div>\n",
       "<style scoped>\n",
       "    .dataframe tbody tr th:only-of-type {\n",
       "        vertical-align: middle;\n",
       "    }\n",
       "\n",
       "    .dataframe tbody tr th {\n",
       "        vertical-align: top;\n",
       "    }\n",
       "\n",
       "    .dataframe thead th {\n",
       "        text-align: right;\n",
       "    }\n",
       "</style>\n",
       "<table border=\"1\" class=\"dataframe\">\n",
       "  <thead>\n",
       "    <tr style=\"text-align: right;\">\n",
       "      <th></th>\n",
       "      <th>class</th>\n",
       "      <th>cap-shape</th>\n",
       "      <th>cap-surface</th>\n",
       "      <th>cap-color</th>\n",
       "      <th>bruises</th>\n",
       "      <th>odor</th>\n",
       "      <th>gill-attachment</th>\n",
       "      <th>gill-spacing</th>\n",
       "      <th>gill-size</th>\n",
       "      <th>gill-color</th>\n",
       "      <th>...</th>\n",
       "      <th>stalk-surface-below-ring</th>\n",
       "      <th>stalk-color-above-ring</th>\n",
       "      <th>stalk-color-below-ring</th>\n",
       "      <th>veil-type</th>\n",
       "      <th>veil-color</th>\n",
       "      <th>ring-number</th>\n",
       "      <th>ring-type</th>\n",
       "      <th>spore-print-color</th>\n",
       "      <th>population</th>\n",
       "      <th>habitat</th>\n",
       "    </tr>\n",
       "  </thead>\n",
       "  <tbody>\n",
       "    <tr>\n",
       "      <th>0</th>\n",
       "      <td>p</td>\n",
       "      <td>x</td>\n",
       "      <td>s</td>\n",
       "      <td>n</td>\n",
       "      <td>t</td>\n",
       "      <td>p</td>\n",
       "      <td>f</td>\n",
       "      <td>c</td>\n",
       "      <td>n</td>\n",
       "      <td>k</td>\n",
       "      <td>...</td>\n",
       "      <td>s</td>\n",
       "      <td>w</td>\n",
       "      <td>w</td>\n",
       "      <td>p</td>\n",
       "      <td>w</td>\n",
       "      <td>o</td>\n",
       "      <td>p</td>\n",
       "      <td>k</td>\n",
       "      <td>s</td>\n",
       "      <td>u</td>\n",
       "    </tr>\n",
       "    <tr>\n",
       "      <th>1</th>\n",
       "      <td>e</td>\n",
       "      <td>x</td>\n",
       "      <td>s</td>\n",
       "      <td>y</td>\n",
       "      <td>t</td>\n",
       "      <td>a</td>\n",
       "      <td>f</td>\n",
       "      <td>c</td>\n",
       "      <td>b</td>\n",
       "      <td>k</td>\n",
       "      <td>...</td>\n",
       "      <td>s</td>\n",
       "      <td>w</td>\n",
       "      <td>w</td>\n",
       "      <td>p</td>\n",
       "      <td>w</td>\n",
       "      <td>o</td>\n",
       "      <td>p</td>\n",
       "      <td>n</td>\n",
       "      <td>n</td>\n",
       "      <td>g</td>\n",
       "    </tr>\n",
       "    <tr>\n",
       "      <th>2</th>\n",
       "      <td>e</td>\n",
       "      <td>b</td>\n",
       "      <td>s</td>\n",
       "      <td>w</td>\n",
       "      <td>t</td>\n",
       "      <td>l</td>\n",
       "      <td>f</td>\n",
       "      <td>c</td>\n",
       "      <td>b</td>\n",
       "      <td>n</td>\n",
       "      <td>...</td>\n",
       "      <td>s</td>\n",
       "      <td>w</td>\n",
       "      <td>w</td>\n",
       "      <td>p</td>\n",
       "      <td>w</td>\n",
       "      <td>o</td>\n",
       "      <td>p</td>\n",
       "      <td>n</td>\n",
       "      <td>n</td>\n",
       "      <td>m</td>\n",
       "    </tr>\n",
       "    <tr>\n",
       "      <th>3</th>\n",
       "      <td>p</td>\n",
       "      <td>x</td>\n",
       "      <td>y</td>\n",
       "      <td>w</td>\n",
       "      <td>t</td>\n",
       "      <td>p</td>\n",
       "      <td>f</td>\n",
       "      <td>c</td>\n",
       "      <td>n</td>\n",
       "      <td>n</td>\n",
       "      <td>...</td>\n",
       "      <td>s</td>\n",
       "      <td>w</td>\n",
       "      <td>w</td>\n",
       "      <td>p</td>\n",
       "      <td>w</td>\n",
       "      <td>o</td>\n",
       "      <td>p</td>\n",
       "      <td>k</td>\n",
       "      <td>s</td>\n",
       "      <td>u</td>\n",
       "    </tr>\n",
       "    <tr>\n",
       "      <th>4</th>\n",
       "      <td>e</td>\n",
       "      <td>x</td>\n",
       "      <td>s</td>\n",
       "      <td>g</td>\n",
       "      <td>f</td>\n",
       "      <td>n</td>\n",
       "      <td>f</td>\n",
       "      <td>w</td>\n",
       "      <td>b</td>\n",
       "      <td>k</td>\n",
       "      <td>...</td>\n",
       "      <td>s</td>\n",
       "      <td>w</td>\n",
       "      <td>w</td>\n",
       "      <td>p</td>\n",
       "      <td>w</td>\n",
       "      <td>o</td>\n",
       "      <td>e</td>\n",
       "      <td>n</td>\n",
       "      <td>a</td>\n",
       "      <td>g</td>\n",
       "    </tr>\n",
       "  </tbody>\n",
       "</table>\n",
       "<p>5 rows × 23 columns</p>\n",
       "</div>"
      ],
      "text/plain": [
       "  class cap-shape cap-surface cap-color bruises odor gill-attachment  \\\n",
       "0     p         x           s         n       t    p               f   \n",
       "1     e         x           s         y       t    a               f   \n",
       "2     e         b           s         w       t    l               f   \n",
       "3     p         x           y         w       t    p               f   \n",
       "4     e         x           s         g       f    n               f   \n",
       "\n",
       "  gill-spacing gill-size gill-color   ...   stalk-surface-below-ring  \\\n",
       "0            c         n          k   ...                          s   \n",
       "1            c         b          k   ...                          s   \n",
       "2            c         b          n   ...                          s   \n",
       "3            c         n          n   ...                          s   \n",
       "4            w         b          k   ...                          s   \n",
       "\n",
       "  stalk-color-above-ring stalk-color-below-ring veil-type veil-color  \\\n",
       "0                      w                      w         p          w   \n",
       "1                      w                      w         p          w   \n",
       "2                      w                      w         p          w   \n",
       "3                      w                      w         p          w   \n",
       "4                      w                      w         p          w   \n",
       "\n",
       "  ring-number ring-type spore-print-color population habitat  \n",
       "0           o         p                 k          s       u  \n",
       "1           o         p                 n          n       g  \n",
       "2           o         p                 n          n       m  \n",
       "3           o         p                 k          s       u  \n",
       "4           o         e                 n          a       g  \n",
       "\n",
       "[5 rows x 23 columns]"
      ]
     },
     "execution_count": 79,
     "metadata": {},
     "output_type": "execute_result"
    }
   ],
   "source": [
    "import os\n",
    "import pandas as pd\n",
    "import warnings\n",
    "warnings.filterwarnings(\"ignore\")\n",
    "\n",
    "INPUT_FILE = \"mushrooms.csv\"\n",
    "\n",
    "def load_data(file=INPUT_FILE, header=True):\n",
    "    csv_path = os.path.join(\"\", file)\n",
    "    if header:\n",
    "        return pd.read_csv(csv_path)\n",
    "    else:\n",
    "        return pd.read_csv(csv_path, header=None)\n",
    "\n",
    "\n",
    "data = load_data(INPUT_FILE)\n",
    "data.head()"
   ]
  },
  {
   "cell_type": "code",
   "execution_count": 80,
   "metadata": {},
   "outputs": [
    {
     "name": "stdout",
     "output_type": "stream",
     "text": [
      "<class 'pandas.core.frame.DataFrame'>\n",
      "RangeIndex: 8124 entries, 0 to 8123\n",
      "Data columns (total 23 columns):\n",
      "class                       8124 non-null object\n",
      "cap-shape                   8124 non-null object\n",
      "cap-surface                 8124 non-null object\n",
      "cap-color                   8124 non-null object\n",
      "bruises                     8124 non-null object\n",
      "odor                        8124 non-null object\n",
      "gill-attachment             8124 non-null object\n",
      "gill-spacing                8124 non-null object\n",
      "gill-size                   8124 non-null object\n",
      "gill-color                  8124 non-null object\n",
      "stalk-shape                 8124 non-null object\n",
      "stalk-root                  8124 non-null object\n",
      "stalk-surface-above-ring    8124 non-null object\n",
      "stalk-surface-below-ring    8124 non-null object\n",
      "stalk-color-above-ring      8124 non-null object\n",
      "stalk-color-below-ring      8124 non-null object\n",
      "veil-type                   8124 non-null object\n",
      "veil-color                  8124 non-null object\n",
      "ring-number                 8124 non-null object\n",
      "ring-type                   8124 non-null object\n",
      "spore-print-color           8124 non-null object\n",
      "population                  8124 non-null object\n",
      "habitat                     8124 non-null object\n",
      "dtypes: object(23)\n",
      "memory usage: 1.4+ MB\n"
     ]
    }
   ],
   "source": [
    "data.info()"
   ]
  },
  {
   "cell_type": "code",
   "execution_count": 81,
   "metadata": {},
   "outputs": [],
   "source": [
    "datacopy = data.copy()"
   ]
  },
  {
   "cell_type": "code",
   "execution_count": 82,
   "metadata": {},
   "outputs": [],
   "source": [
    "from sklearn.preprocessing import LabelEncoder, LabelBinarizer\n",
    "\n",
    "encoders = {}\n",
    "binarizers = {}\n",
    "for column in list(data):\n",
    "    encoder = LabelEncoder()\n",
    "    encoder.fit(data[column])\n",
    "    binarizer = LabelBinarizer()\n",
    "    binarizer.fit(data[column])\n",
    "    data[column] = encoder.transform(data[column])\n",
    "    encoders[column] = encoder\n",
    "    binarizers[column] = binarizer"
   ]
  },
  {
   "cell_type": "code",
   "execution_count": 83,
   "metadata": {},
   "outputs": [
    {
     "data": {
      "text/html": [
       "<div>\n",
       "<style scoped>\n",
       "    .dataframe tbody tr th:only-of-type {\n",
       "        vertical-align: middle;\n",
       "    }\n",
       "\n",
       "    .dataframe tbody tr th {\n",
       "        vertical-align: top;\n",
       "    }\n",
       "\n",
       "    .dataframe thead th {\n",
       "        text-align: right;\n",
       "    }\n",
       "</style>\n",
       "<table border=\"1\" class=\"dataframe\">\n",
       "  <thead>\n",
       "    <tr style=\"text-align: right;\">\n",
       "      <th></th>\n",
       "      <th>class</th>\n",
       "      <th>cap-shape</th>\n",
       "      <th>cap-surface</th>\n",
       "      <th>cap-color</th>\n",
       "      <th>bruises</th>\n",
       "      <th>odor</th>\n",
       "      <th>gill-attachment</th>\n",
       "      <th>gill-spacing</th>\n",
       "      <th>gill-size</th>\n",
       "      <th>gill-color</th>\n",
       "      <th>...</th>\n",
       "      <th>stalk-surface-below-ring</th>\n",
       "      <th>stalk-color-above-ring</th>\n",
       "      <th>stalk-color-below-ring</th>\n",
       "      <th>veil-type</th>\n",
       "      <th>veil-color</th>\n",
       "      <th>ring-number</th>\n",
       "      <th>ring-type</th>\n",
       "      <th>spore-print-color</th>\n",
       "      <th>population</th>\n",
       "      <th>habitat</th>\n",
       "    </tr>\n",
       "  </thead>\n",
       "  <tbody>\n",
       "    <tr>\n",
       "      <th>0</th>\n",
       "      <td>1</td>\n",
       "      <td>5</td>\n",
       "      <td>2</td>\n",
       "      <td>4</td>\n",
       "      <td>1</td>\n",
       "      <td>6</td>\n",
       "      <td>1</td>\n",
       "      <td>0</td>\n",
       "      <td>1</td>\n",
       "      <td>4</td>\n",
       "      <td>...</td>\n",
       "      <td>2</td>\n",
       "      <td>7</td>\n",
       "      <td>7</td>\n",
       "      <td>0</td>\n",
       "      <td>2</td>\n",
       "      <td>1</td>\n",
       "      <td>4</td>\n",
       "      <td>2</td>\n",
       "      <td>3</td>\n",
       "      <td>5</td>\n",
       "    </tr>\n",
       "    <tr>\n",
       "      <th>1</th>\n",
       "      <td>0</td>\n",
       "      <td>5</td>\n",
       "      <td>2</td>\n",
       "      <td>9</td>\n",
       "      <td>1</td>\n",
       "      <td>0</td>\n",
       "      <td>1</td>\n",
       "      <td>0</td>\n",
       "      <td>0</td>\n",
       "      <td>4</td>\n",
       "      <td>...</td>\n",
       "      <td>2</td>\n",
       "      <td>7</td>\n",
       "      <td>7</td>\n",
       "      <td>0</td>\n",
       "      <td>2</td>\n",
       "      <td>1</td>\n",
       "      <td>4</td>\n",
       "      <td>3</td>\n",
       "      <td>2</td>\n",
       "      <td>1</td>\n",
       "    </tr>\n",
       "    <tr>\n",
       "      <th>2</th>\n",
       "      <td>0</td>\n",
       "      <td>0</td>\n",
       "      <td>2</td>\n",
       "      <td>8</td>\n",
       "      <td>1</td>\n",
       "      <td>3</td>\n",
       "      <td>1</td>\n",
       "      <td>0</td>\n",
       "      <td>0</td>\n",
       "      <td>5</td>\n",
       "      <td>...</td>\n",
       "      <td>2</td>\n",
       "      <td>7</td>\n",
       "      <td>7</td>\n",
       "      <td>0</td>\n",
       "      <td>2</td>\n",
       "      <td>1</td>\n",
       "      <td>4</td>\n",
       "      <td>3</td>\n",
       "      <td>2</td>\n",
       "      <td>3</td>\n",
       "    </tr>\n",
       "    <tr>\n",
       "      <th>3</th>\n",
       "      <td>1</td>\n",
       "      <td>5</td>\n",
       "      <td>3</td>\n",
       "      <td>8</td>\n",
       "      <td>1</td>\n",
       "      <td>6</td>\n",
       "      <td>1</td>\n",
       "      <td>0</td>\n",
       "      <td>1</td>\n",
       "      <td>5</td>\n",
       "      <td>...</td>\n",
       "      <td>2</td>\n",
       "      <td>7</td>\n",
       "      <td>7</td>\n",
       "      <td>0</td>\n",
       "      <td>2</td>\n",
       "      <td>1</td>\n",
       "      <td>4</td>\n",
       "      <td>2</td>\n",
       "      <td>3</td>\n",
       "      <td>5</td>\n",
       "    </tr>\n",
       "    <tr>\n",
       "      <th>4</th>\n",
       "      <td>0</td>\n",
       "      <td>5</td>\n",
       "      <td>2</td>\n",
       "      <td>3</td>\n",
       "      <td>0</td>\n",
       "      <td>5</td>\n",
       "      <td>1</td>\n",
       "      <td>1</td>\n",
       "      <td>0</td>\n",
       "      <td>4</td>\n",
       "      <td>...</td>\n",
       "      <td>2</td>\n",
       "      <td>7</td>\n",
       "      <td>7</td>\n",
       "      <td>0</td>\n",
       "      <td>2</td>\n",
       "      <td>1</td>\n",
       "      <td>0</td>\n",
       "      <td>3</td>\n",
       "      <td>0</td>\n",
       "      <td>1</td>\n",
       "    </tr>\n",
       "  </tbody>\n",
       "</table>\n",
       "<p>5 rows × 23 columns</p>\n",
       "</div>"
      ],
      "text/plain": [
       "   class  cap-shape  cap-surface  cap-color  bruises  odor  gill-attachment  \\\n",
       "0      1          5            2          4        1     6                1   \n",
       "1      0          5            2          9        1     0                1   \n",
       "2      0          0            2          8        1     3                1   \n",
       "3      1          5            3          8        1     6                1   \n",
       "4      0          5            2          3        0     5                1   \n",
       "\n",
       "   gill-spacing  gill-size  gill-color   ...     stalk-surface-below-ring  \\\n",
       "0             0          1           4   ...                            2   \n",
       "1             0          0           4   ...                            2   \n",
       "2             0          0           5   ...                            2   \n",
       "3             0          1           5   ...                            2   \n",
       "4             1          0           4   ...                            2   \n",
       "\n",
       "   stalk-color-above-ring  stalk-color-below-ring  veil-type  veil-color  \\\n",
       "0                       7                       7          0           2   \n",
       "1                       7                       7          0           2   \n",
       "2                       7                       7          0           2   \n",
       "3                       7                       7          0           2   \n",
       "4                       7                       7          0           2   \n",
       "\n",
       "   ring-number  ring-type  spore-print-color  population  habitat  \n",
       "0            1          4                  2           3        5  \n",
       "1            1          4                  3           2        1  \n",
       "2            1          4                  3           2        3  \n",
       "3            1          4                  2           3        5  \n",
       "4            1          0                  3           0        1  \n",
       "\n",
       "[5 rows x 23 columns]"
      ]
     },
     "execution_count": 83,
     "metadata": {},
     "output_type": "execute_result"
    }
   ],
   "source": [
    "data.head()"
   ]
  },
  {
   "cell_type": "code",
   "execution_count": 84,
   "metadata": {},
   "outputs": [
    {
     "data": {
      "image/png": "[encoded data removed]",
      "text/plain": [
       "<matplotlib.figure.Figure at 0x10ee48710>"
      ]
     },
     "metadata": {},
     "output_type": "display_data"
    }
   ],
   "source": [
    "%matplotlib inline\n",
    "import matplotlib.pyplot as plt\n",
    "data.hist(bins=50, figsize=(20,15))\n",
    "plt.show()"
   ]
  },
  {
   "cell_type": "code",
   "execution_count": 85,
   "metadata": {},
   "outputs": [
    {
     "data": {
      "text/plain": [
       "class                       1.000000\n",
       "cap-shape                   0.052951\n",
       "cap-surface                 0.178446\n",
       "cap-color                  -0.031384\n",
       "bruises                    -0.501530\n",
       "odor                       -0.093552\n",
       "gill-attachment             0.129200\n",
       "gill-spacing               -0.348387\n",
       "gill-size                   0.540024\n",
       "gill-color                 -0.530566\n",
       "stalk-shape                -0.102019\n",
       "stalk-root                 -0.379361\n",
       "stalk-surface-above-ring   -0.334593\n",
       "stalk-surface-below-ring   -0.298801\n",
       "stalk-color-above-ring     -0.154003\n",
       "stalk-color-below-ring     -0.146730\n",
       "veil-type                        NaN\n",
       "veil-color                  0.145142\n",
       "ring-number                -0.214366\n",
       "ring-type                  -0.411771\n",
       "spore-print-color           0.171961\n",
       "population                  0.298686\n",
       "habitat                     0.217179\n",
       "Name: class, dtype: float64"
      ]
     },
     "execution_count": 85,
     "metadata": {},
     "output_type": "execute_result"
    }
   ],
   "source": [
    "corr_features = data.corr()\n",
    "corr_features[\"class\"]"
   ]
  },
  {
   "cell_type": "code",
   "execution_count": 86,
   "metadata": {},
   "outputs": [],
   "source": [
    "columns_removed = []\n",
    "columns_removed.append(\"veil-type\")"
   ]
  },
  {
   "cell_type": "code",
   "execution_count": 87,
   "metadata": {},
   "outputs": [],
   "source": [
    "data = datacopy.copy()"
   ]
  },
  {
   "cell_type": "code",
   "execution_count": 88,
   "metadata": {},
   "outputs": [],
   "source": [
    "from sklearn .model_selection import StratifiedShuffleSplit\n",
    "split = StratifiedShuffleSplit(n_splits=1, test_size=0.2, random_state=42)\n",
    "for train_index, test_index in split.split(data, data[\"class\"]):\n",
    "    train_features = data.loc[train_index]\n",
    "    test_features = data.loc[test_index]\n",
    "    \n",
    "train_labels = train_features[\"class\"].copy().values\n",
    "train_features.drop(\"class\", axis=1, inplace=True)\n",
    "\n",
    "test_labels = test_features[\"class\"].copy().values\n",
    "test_features.drop(\"class\", axis=1, inplace=True)"
   ]
  },
  {
   "cell_type": "code",
   "execution_count": 89,
   "metadata": {},
   "outputs": [],
   "source": [
    "for set in (train_features, test_features):\n",
    "    for column_removed in columns_removed:\n",
    "        set.drop([column_removed], axis=1, inplace=True)"
   ]
  },
  {
   "cell_type": "code",
   "execution_count": 90,
   "metadata": {},
   "outputs": [
    {
     "name": "stdout",
     "output_type": "stream",
     "text": [
      "<class 'pandas.core.frame.DataFrame'>\n",
      "Int64Index: 6499 entries, 5249 to 2411\n",
      "Data columns (total 21 columns):\n",
      "cap-shape                   6499 non-null object\n",
      "cap-surface                 6499 non-null object\n",
      "cap-color                   6499 non-null object\n",
      "bruises                     6499 non-null object\n",
      "odor                        6499 non-null object\n",
      "gill-attachment             6499 non-null object\n",
      "gill-spacing                6499 non-null object\n",
      "gill-size                   6499 non-null object\n",
      "gill-color                  6499 non-null object\n",
      "stalk-shape                 6499 non-null object\n",
      "stalk-root                  6499 non-null object\n",
      "stalk-surface-above-ring    6499 non-null object\n",
      "stalk-surface-below-ring    6499 non-null object\n",
      "stalk-color-above-ring      6499 non-null object\n",
      "stalk-color-below-ring      6499 non-null object\n",
      "veil-color                  6499 non-null object\n",
      "ring-number                 6499 non-null object\n",
      "ring-type                   6499 non-null object\n",
      "spore-print-color           6499 non-null object\n",
      "population                  6499 non-null object\n",
      "habitat                     6499 non-null object\n",
      "dtypes: object(21)\n",
      "memory usage: 1.1+ MB\n"
     ]
    }
   ],
   "source": [
    "train_features.info()"
   ]
  },
  {
   "cell_type": "code",
   "execution_count": 91,
   "metadata": {},
   "outputs": [],
   "source": [
    "import numpy as np\n",
    "\n",
    "X = []\n",
    "X_test = []\n",
    "for column in list(train_features):\n",
    "    if len(X) == 0:\n",
    "        X = binarizers[column].transform(train_features[column])\n",
    "        X_test = binarizers[column].transform(test_features[column])\n",
    "        continue\n",
    "        \n",
    "    X = np.concatenate((X, binarizers[column].transform(train_features[column])), axis=1)\n",
    "    X_test = np.concatenate((X_test, binarizers[column].transform(test_features[column])), axis=1)\n",
    "    \n",
    "Y = binarizers[\"class\"].transform(train_labels).flatten()\n",
    "Y_test = binarizers[\"class\"].transform(test_labels).flatten()"
   ]
  },
  {
   "cell_type": "code",
   "execution_count": 92,
   "metadata": {},
   "outputs": [
    {
     "name": "stdout",
     "output_type": "stream",
     "text": [
      "(6499,) (1625,) (6499, 111) (1625, 111)\n"
     ]
    }
   ],
   "source": [
    "print(np.shape(Y), np.shape(Y_test), np.shape(X), np.shape(X_test))"
   ]
  },
  {
   "cell_type": "code",
   "execution_count": 93,
   "metadata": {},
   "outputs": [],
   "source": [
    "from sklearn.decomposition import PCA\n",
    "import numpy as np\n",
    "\n",
    "def get_dims_variances(min_dim, max_dim, threshold=0.1, capToThreshold=False):\n",
    "    dims = []\n",
    "    variances = []\n",
    "    optimum_dim = min_dim\n",
    "    for dim in range(min_dim, max_dim):\n",
    "        pca = PCA(n_components=dim)\n",
    "        pca.fit(X)\n",
    "        variance = np.array(pca.explained_variance_ratio_)\n",
    "        variance = variance.min() / dim\n",
    "        dims.append(dim)\n",
    "        variances.append(variance)\n",
    "        if threshold < variance:\n",
    "            optimum_dim = dim\n",
    "        else:\n",
    "            if capToThreshold:\n",
    "                break\n",
    "        \n",
    "    return dims, variances, optimum_dim"
   ]
  },
  {
   "cell_type": "code",
   "execution_count": 94,
   "metadata": {},
   "outputs": [
    {
     "name": "stdout",
     "output_type": "stream",
     "text": [
      "15\n"
     ]
    },
    {
     "data": {
      "image/png": "[encoded data removed]",
      "text/plain": [
       "<matplotlib.figure.Figure at 0x10e0439e8>"
      ]
     },
     "metadata": {},
     "output_type": "display_data"
    }
   ],
   "source": [
    "dims, variances, optimum_dim = get_dims_variances(2,  np.shape(X)[1], 0.001, capToThreshold=True)\n",
    "print(optimum_dim)\n",
    "import matplotlib.pyplot as plt\n",
    "plt.plot(dims, variances)\n",
    "plt.show()"
   ]
  },
  {
   "cell_type": "code",
   "execution_count": 95,
   "metadata": {},
   "outputs": [
    {
     "name": "stdout",
     "output_type": "stream",
     "text": [
      "[0.06915517430347502, 0.03063783768440433, 0.013773055070401892, 0.008119921526062168, 0.006370272537842067, 0.004746098464025501, 0.003553361139283311, 0.0026121378180470434, 0.0022421866737540592, 0.0020014922780178337, 0.0016224745536547929, 0.0014861835059024647, 0.0012264976640687423, 0.0010885922935581392, 0.00099822238650861]\n"
     ]
    }
   ],
   "source": [
    "print(variances)"
   ]
  },
  {
   "cell_type": "code",
   "execution_count": 96,
   "metadata": {},
   "outputs": [
    {
     "name": "stdout",
     "output_type": "stream",
     "text": [
      "[0.16188491 0.13831035 0.09191351 0.05509222 0.04059959 0.03822157\n",
      " 0.0332229  0.02842665 0.02350029 0.02241952 0.02201515 0.01952451\n",
      " 0.01930248 0.01711677 0.01634917]\n"
     ]
    }
   ],
   "source": [
    "pca = PCA(n_components=optimum_dim)\n",
    "pca.fit(X)\n",
    "print(pca.explained_variance_ratio_)\n",
    "X = pca.transform(X)\n",
    "X_test = pca.transform(X_test)"
   ]
  },
  {
   "cell_type": "code",
   "execution_count": 97,
   "metadata": {},
   "outputs": [],
   "source": [
    "from sklearn.preprocessing import Imputer\n",
    "imputer = Imputer(strategy=\"median\")\n",
    "imputer.fit(X)\n",
    "\n",
    "X = imputer.transform(X)\n",
    "X_test = imputer.transform(X_test)"
   ]
  },
  {
   "cell_type": "code",
   "execution_count": 98,
   "metadata": {},
   "outputs": [],
   "source": [
    "from sklearn.preprocessing import StandardScaler\n",
    "\n",
    "scalar = StandardScaler()\n",
    "scalar.fit(X)\n",
    "\n",
    "X = scalar.transform(X)\n",
    "X_test = scalar.transform(X_test)"
   ]
  },
  {
   "cell_type": "code",
   "execution_count": 99,
   "metadata": {},
   "outputs": [
    {
     "name": "stdout",
     "output_type": "stream",
     "text": [
      "[1 0 0 ... 0 0 0]\n",
      "['e' 'p']\n"
     ]
    }
   ],
   "source": [
    "print(Y)\n",
    "print(binarizers[\"class\"].classes_)"
   ]
  },
  {
   "cell_type": "code",
   "execution_count": 105,
   "metadata": {},
   "outputs": [],
   "source": [
    "from sklearn.metrics import roc_curve\n",
    "import matplotlib.pyplot as plt\n",
    "def plot_roc_curve(clf_sets):\n",
    "    for clf_set in clf_sets:\n",
    "        y = clf_set[0]\n",
    "        y_pred = clf_set[1]\n",
    "        label = clf_set[2]\n",
    "        fpr, tpr, thresholds = roc_curve(y, y_pred)\n",
    "        plt.plot(fpr, tpr, linewidth=1, label=label)\n",
    "    \n",
    "    plt.plot([0,1],[0,1],'k--')\n",
    "    plt.axis([0,1,0,1])\n",
    "    plt.xlabel('False Positive Rate')\n",
    "    plt.ylabel('True Positive Rate')\n",
    "    plt.legend(loc=\"bottom right\")\n",
    "    plt.show()"
   ]
  },
  {
   "cell_type": "code",
   "execution_count": 106,
   "metadata": {},
   "outputs": [
    {
     "name": "stdout",
     "output_type": "stream",
     "text": [
      "Cross Val Scores on training set\n",
      " [0.92570374 0.94506002 0.95106187]\n",
      "confusion_matrix\n",
      " [[3181  185]\n",
      " [ 201 2932]]\n",
      "f1_score\n",
      " 0.9382400000000001\n",
      "precision_score\n",
      " 0.9406480590311197\n",
      "recall_score\n",
      " 0.9358442387488031\n",
      "\n",
      "\n",
      "Cross Val Scores on testing set\n",
      " [0.92804428 0.90590406 0.93160813]\n",
      "confusion_matrix\n",
      " [[775  67]\n",
      " [ 60 723]]\n",
      "f1_score\n",
      " 0.919262555626192\n",
      "precision_score\n",
      " 0.9151898734177215\n",
      "recall_score\n",
      " 0.9233716475095786\n",
      "\n",
      "\n",
      "Accuracy on testing data set\n",
      " 0.9378461538461539\n"
     ]
    },
    {
     "data": {
      "image/png": "[encoded data removed]",
      "text/plain": [
       "<matplotlib.figure.Figure at 0x10ebfa748>"
      ]
     },
     "metadata": {},
     "output_type": "display_data"
    }
   ],
   "source": [
    "# SGD Classifier\n",
    "from sklearn.linear_model import SGDClassifier\n",
    "from sklearn.model_selection import cross_val_score, cross_val_predict\n",
    "from sklearn.metrics import confusion_matrix, f1_score, precision_score, recall_score\n",
    "from sklearn.base import clone\n",
    "\n",
    "clf_sets = []\n",
    "sgd_clf = SGDClassifier(random_state=42)\n",
    "\n",
    "print(\"Cross Val Scores on training set\\n\", cross_val_score(clone(sgd_clf), X, Y, cv=3, scoring=\"accuracy\"))\n",
    "Y_pred = cross_val_predict(clone(sgd_clf), X, Y, cv=3)\n",
    "print(\"confusion_matrix\\n\", confusion_matrix(Y, Y_pred))\n",
    "print(\"f1_score\\n\", f1_score(Y, Y_pred))\n",
    "print(\"precision_score\\n\", precision_score(Y, Y_pred))\n",
    "print(\"recall_score\\n\", recall_score(Y, Y_pred))\n",
    "clf_sets.append((Y, Y_pred, \"SGDClassifier-train\"))\n",
    "\n",
    "print(\"\\n\\nCross Val Scores on testing set\\n\", cross_val_score(clone(sgd_clf), X_test, Y_test, cv=3, scoring=\"accuracy\"))\n",
    "Y_test_pred = cross_val_predict(clone(sgd_clf), X_test, Y_test, cv=3)\n",
    "print(\"confusion_matrix\\n\", confusion_matrix(Y_test, Y_test_pred))\n",
    "print(\"f1_score\\n\", f1_score(Y_test, Y_test_pred))\n",
    "print(\"precision_score\\n\", precision_score(Y_test, Y_test_pred))\n",
    "print(\"recall_score\\n\", recall_score(Y_test, Y_test_pred))\n",
    "clf_sets.append((Y_test, Y_test_pred, \"SGDClassifier-test\"))\n",
    "\n",
    "sgd_clf.fit(X, Y)\n",
    "print(\"\\n\\nAccuracy on testing data set\\n\", sum(Y_test == sgd_clf.predict(X_test)) / len(X_test))\n",
    "\n",
    "plot_roc_curve(clf_sets)"
   ]
  },
  {
   "cell_type": "code",
   "execution_count": 107,
   "metadata": {},
   "outputs": [
    {
     "name": "stdout",
     "output_type": "stream",
     "text": [
      "Cross Val Scores on training set\n",
      " [0.99676973 0.99907664 0.99907664]\n",
      "confusion_matrix\n",
      " [[3352   14]\n",
      " [   4 3129]]\n",
      "f1_score\n",
      " 0.9971319311663479\n",
      "precision_score\n",
      " 0.9955456570155902\n",
      "recall_score\n",
      " 0.998723268432812\n",
      "\n",
      "\n",
      "Cross Val Scores on testing set\n",
      " [0.98154982 0.99077491 0.98521257]\n",
      "confusion_matrix\n",
      " [[828  14]\n",
      " [  9 774]]\n",
      "f1_score\n",
      " 0.9853596435391472\n",
      "precision_score\n",
      " 0.9822335025380711\n",
      "recall_score\n",
      " 0.9885057471264368\n",
      "\n",
      "\n",
      "Accuracy on testing data set\n",
      " 0.9981538461538462\n"
     ]
    },
    {
     "data": {
      "image/png": "[encoded data removed]",
      "text/plain": [
       "<matplotlib.figure.Figure at 0x10f1316a0>"
      ]
     },
     "metadata": {},
     "output_type": "display_data"
    }
   ],
   "source": [
    "# KNeighbors Classifier\n",
    "\n",
    "from sklearn.neighbors import KNeighborsClassifier \n",
    "\n",
    "knn_clf = KNeighborsClassifier()\n",
    "print(\"Cross Val Scores on training set\\n\", cross_val_score(clone(forest_clf), X, Y, cv=3, scoring=\"accuracy\"))\n",
    "Y_pred = cross_val_predict(clone(knn_clf), X, Y, cv=3)\n",
    "print(\"confusion_matrix\\n\", confusion_matrix(Y, Y_pred))\n",
    "print(\"f1_score\\n\", f1_score(Y, Y_pred))\n",
    "print(\"precision_score\\n\", precision_score(Y, Y_pred))\n",
    "print(\"recall_score\\n\", recall_score(Y, Y_pred))\n",
    "clf_sets.append((Y, Y_pred, \"KNN-train\"))\n",
    "\n",
    "print(\"\\n\\nCross Val Scores on testing set\\n\", cross_val_score(clone(knn_clf), X_test, Y_test, cv=3, scoring=\"accuracy\"))\n",
    "Y_test_pred = cross_val_predict(clone(knn_clf), X_test, Y_test, cv=3)\n",
    "print(\"confusion_matrix\\n\", confusion_matrix(Y_test, Y_test_pred))\n",
    "print(\"f1_score\\n\", f1_score(Y_test, Y_test_pred))\n",
    "print(\"precision_score\\n\", precision_score(Y_test, Y_test_pred))\n",
    "print(\"recall_score\\n\", recall_score(Y_test, Y_test_pred))\n",
    "clf_sets.append((Y_test, Y_test_pred, \"KNN-test\"))\n",
    "\n",
    "knn_clf.fit(X, Y)\n",
    "print(\"\\n\\nAccuracy on testing data set\\n\", sum(Y_test == knn_clf.predict(X_test)) / len(X_test))\n",
    "\n",
    "plot_roc_curve(clf_sets)\n"
   ]
  },
  {
   "cell_type": "code",
   "execution_count": 108,
   "metadata": {},
   "outputs": [
    {
     "name": "stdout",
     "output_type": "stream",
     "text": [
      "Cross Val Scores on training set\n",
      " [0.99676973 0.99907664 0.99907664]\n",
      "confusion_matrix\n",
      " [[3365    1]\n",
      " [  10 3123]]\n",
      "f1_score\n",
      " 0.998241968994726\n",
      "precision_score\n",
      " 0.9996798975672215\n",
      "recall_score\n",
      " 0.99680817108203\n",
      "\n",
      "\n",
      "Cross Val Scores on testing set\n",
      " [0.99077491 0.99630996 0.98336414]\n",
      "confusion_matrix\n",
      " [[840   2]\n",
      " [ 14 769]]\n",
      "f1_score\n",
      " 0.9897039897039898\n",
      "precision_score\n",
      " 0.9974059662775616\n",
      "recall_score\n",
      " 0.9821200510855683\n",
      "\n",
      "\n",
      "Accuracy on testing data set\n",
      " 0.9987692307692307\n"
     ]
    },
    {
     "data": {
      "image/png": "[encoded data removed]",
      "text/plain": [
       "<matplotlib.figure.Figure at 0x10db05be0>"
      ]
     },
     "metadata": {},
     "output_type": "display_data"
    }
   ],
   "source": [
    "# Random Forest Classifier\n",
    "\n",
    "from sklearn.ensemble import RandomForestClassifier \n",
    "\n",
    "forest_clf = RandomForestClassifier(random_state=42)\n",
    "print(\"Cross Val Scores on training set\\n\", cross_val_score(clone(forest_clf), X, Y, cv=3, scoring=\"accuracy\"))\n",
    "Y_pred = cross_val_predict(clone(forest_clf), X, Y, cv=3)\n",
    "print(\"confusion_matrix\\n\", confusion_matrix(Y, Y_pred))\n",
    "print(\"f1_score\\n\", f1_score(Y, Y_pred))\n",
    "print(\"precision_score\\n\", precision_score(Y, Y_pred))\n",
    "print(\"recall_score\\n\", recall_score(Y, Y_pred))\n",
    "clf_sets.append((Y, Y_pred, \"RandomForest-train\"))\n",
    "\n",
    "print(\"\\n\\nCross Val Scores on testing set\\n\", cross_val_score(clone(forest_clf), X_test, Y_test, cv=3, scoring=\"accuracy\"))\n",
    "Y_test_pred = cross_val_predict(clone(forest_clf), X_test, Y_test, cv=3)\n",
    "print(\"confusion_matrix\\n\", confusion_matrix(Y_test, Y_test_pred))\n",
    "print(\"f1_score\\n\", f1_score(Y_test, Y_test_pred))\n",
    "print(\"precision_score\\n\", precision_score(Y_test, Y_test_pred))\n",
    "print(\"recall_score\\n\", recall_score(Y_test, Y_test_pred))\n",
    "clf_sets.append((Y_test, Y_test_pred, \"RandomForest-test\"))\n",
    "\n",
    "forest_clf.fit(X, Y)\n",
    "print(\"\\n\\nAccuracy on testing data set\\n\", sum(Y_test == forest_clf.predict(X_test)) / len(X_test))\n",
    "\n",
    "plot_roc_curve(clf_sets)\n"
   ]
  },
  {
   "cell_type": "code",
   "execution_count": null,
   "metadata": {},
   "outputs": [],
   "source": []
  }
 ],
 "metadata": {
  "kernelspec": {
   "display_name": "Python 3",
   "language": "python",
   "name": "python3"
  },
  "language_info": {
   "codemirror_mode": {
    "name": "ipython",
    "version": 3
   },
   "file_extension": ".py",
   "mimetype": "text/x-python",
   "name": "python",
   "nbconvert_exporter": "python",
   "pygments_lexer": "ipython3",
   "version": "3.6.3"
  }
 },
 "nbformat": 4,
 "nbformat_minor": 2
}
